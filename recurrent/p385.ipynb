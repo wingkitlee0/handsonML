{
 "cells": [
  {
   "cell_type": "code",
   "execution_count": 1,
   "metadata": {},
   "outputs": [],
   "source": [
    "import tensorflow as tf"
   ]
  },
  {
   "cell_type": "code",
   "execution_count": 2,
   "metadata": {},
   "outputs": [],
   "source": [
    "#n_inputs = 3\n",
    "#n_neurons= 5\n",
    "\n",
    "#X0 = tf.placeholder(tf.float32, [None, n_inputs])\n",
    "#X1 = tf.placeholder(tf.float32, [None, n_inputs])\n",
    "\n",
    "#basic_cell = tf.contrib.rnn.BasicRNNCell(num_units=n_neurons)\n",
    "#output_seqs, states = tf.contrib.rnn.static_rnn(basic_cell, [X0, X1], dtype=tf.float32)\n",
    "\n",
    "#Y0, Y1 = output_seqs"
   ]
  },
  {
   "cell_type": "code",
   "execution_count": 4,
   "metadata": {},
   "outputs": [
    {
     "name": "stdout",
     "output_type": "stream",
     "text": [
      "WARNING:tensorflow:From <ipython-input-4-af14b89b295e>:7: BasicRNNCell.__init__ (from tensorflow.python.ops.rnn_cell_impl) is deprecated and will be removed in a future version.\n",
      "Instructions for updating:\n",
      "This class is equivalent as tf.keras.layers.SimpleRNNCell, and will be replaced by that in Tensorflow 2.0.\n"
     ]
    }
   ],
   "source": [
    "n_inputs = 3\n",
    "n_neurons= 5\n",
    "n_steps = 2\n",
    "X = tf.placeholder(tf.float32, [None, n_steps, n_inputs])\n",
    "X_seqs = tf.unstack(tf.transpose(X, perm=[1, 0, 2])) # X_seqs = [X_0, X_1, X_2 ... X_n] for n-steps\n",
    "\n",
    "basic_cell = tf.contrib.rnn.BasicRNNCell(num_units=n_neurons)\n",
    "output_seqs, states = tf.contrib.rnn.static_rnn(basic_cell, X_seqs, dtype=tf.float32)\n",
    "\n",
    "outputs = tf.transpose(tf.stack(output_seqs), perm=[1,0,2])"
   ]
  },
  {
   "cell_type": "code",
   "execution_count": 5,
   "metadata": {},
   "outputs": [],
   "source": [
    "init = tf.global_variables_initializer()"
   ]
  },
  {
   "cell_type": "code",
   "execution_count": 6,
   "metadata": {},
   "outputs": [],
   "source": [
    "import numpy as np\n",
    "\n",
    "# Mini-batch\n",
    "X_batch = np.array([ \n",
    "    [[0, 1, 2], [9, 8, 7]],\n",
    "    [[3, 4, 5], [0, 0, 0]],\n",
    "    [[6, 7, 8], [6, 5, 4]],\n",
    "    [[9, 0, 1], [3, 2, 1]]])\n",
    "\n",
    "with tf.Session() as sess:\n",
    "    init.run()\n",
    "    outputs_val = outputs.eval(feed_dict={X: X_batch})"
   ]
  },
  {
   "cell_type": "code",
   "execution_count": 8,
   "metadata": {},
   "outputs": [
    {
     "name": "stdout",
     "output_type": "stream",
     "text": [
      "[[[-0.254056   -0.618339   -0.37141547  0.7546131   0.1335104 ]\n",
      "  [ 0.99926084 -0.9999862  -0.9999989  -0.08789495 -0.9569771 ]]\n",
      "\n",
      " [[ 0.770983   -0.9972153  -0.99394166  0.83302087 -0.35803068]\n",
      "  [ 0.79322326  0.87146944  0.11817493 -0.42538187  0.15635826]]\n",
      "\n",
      " [[ 0.98030174 -0.99998355 -0.9999597   0.8879747  -0.7081997 ]\n",
      "  [ 0.9995793  -0.9959626  -0.99962133 -0.8436101  -0.6766966 ]]\n",
      "\n",
      " [[ 0.9324256  -0.99998474 -0.9994141  -0.98102224 -0.99992424]\n",
      "  [ 0.99892396 -0.9469086  -0.9864506  -0.9755598   0.17285477]]]\n"
     ]
    }
   ],
   "source": [
    "print(outputs_val)"
   ]
  },
  {
   "cell_type": "code",
   "execution_count": null,
   "metadata": {},
   "outputs": [],
   "source": []
  }
 ],
 "metadata": {
  "kernelspec": {
   "display_name": "new-tensorflow",
   "language": "python",
   "name": "new-tensorflow"
  },
  "language_info": {
   "codemirror_mode": {
    "name": "ipython",
    "version": 3
   },
   "file_extension": ".py",
   "mimetype": "text/x-python",
   "name": "python",
   "nbconvert_exporter": "python",
   "pygments_lexer": "ipython3",
   "version": "3.6.0"
  }
 },
 "nbformat": 4,
 "nbformat_minor": 2
}
